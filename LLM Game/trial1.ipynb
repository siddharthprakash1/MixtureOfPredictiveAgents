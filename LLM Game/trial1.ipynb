{
 "cells": [
  {
   "cell_type": "code",
   "execution_count": 4,
   "metadata": {},
   "outputs": [
    {
     "data": {
      "text/plain": [
       "False"
      ]
     },
     "execution_count": 4,
     "metadata": {},
     "output_type": "execute_result"
    }
   ],
   "source": [
    "from dotenv import load_dotenv\n",
    "load_dotenv()"
   ]
  },
  {
   "cell_type": "code",
   "execution_count": 11,
   "metadata": {},
   "outputs": [],
   "source": [
    "from langchain.prompts import PromptTemplate\n",
    "from langchain_core.output_parsers import StrOutputParser\n",
    "\n",
    "\n",
    "class Player:\n",
    "    def __init__(self, model):\n",
    "        self.observations = []\n",
    "        self.model = model\n",
    "        self.concept = None\n",
    "        self.history = []\n",
    "\n",
    "    def initialize_host(self):\n",
    "        template = \"\"\"\n",
    "        You are the host of a game where a player asks questions about\n",
    "        a thing to guess what it is.\n",
    "\n",
    "        Write the name of a thing. It must be a common object.\n",
    "        It must be a single word. Do not write anything else. \n",
    "        Only write the name of the thing with no punctuation.\n",
    "\n",
    "        Here is a list of things you cannot use:\n",
    "        {history}\n",
    "        \"\"\"\n",
    "        prompt = PromptTemplate.from_template(template)\n",
    "        chain = prompt | self.model | StrOutputParser()\n",
    "\n",
    "        self.concept = chain.invoke({\"history\": \"\\n\".join(self.history)})\n",
    "        self.history.append(self.concept)\n",
    "\n",
    "        print(f\"Concept: {self.concept}\")\n",
    "\n",
    "    def initialize_player(self):\n",
    "        self.observations = []\n",
    "\n",
    "    def ask(self, questions_left):\n",
    "        template = \"\"\"\n",
    "        You are a player in a game where you need to ask Yes/No questions about \n",
    "        a thing and guess what it is.\n",
    "\n",
    "        The thing is a common object. It is a single word.\n",
    "\n",
    "        Here are the questions you have already asked:\n",
    "\n",
    "        {observations}\n",
    "\n",
    "        You only have {questions_left} questions left to ask. You want to guess\n",
    "        in as few questions as possible. If there's only 1 question left, \n",
    "        you must make a guess or you'll lose the game. Be aggresive and try to\n",
    "        guess the thing as soon as possible.\n",
    "\n",
    "        Do not ask questions that you have already asked before.\n",
    "\n",
    "        Only binary question are allowed. The question must be answered\n",
    "        with a Yes/No.\n",
    "         \n",
    "        Be as concise as possible when asking a question. Do not anounce that you\n",
    "        will ask the question. Do not say \"Let's get started\", or introduce your \n",
    "        question. Just write the question.\n",
    "\n",
    "        Examples of good questions:\n",
    "\n",
    "        - Is it a fruit?\n",
    "        - Is it bigger than a car?\n",
    "        - Is it alive?\n",
    "\n",
    "        Examples of bad questions:\n",
    "\n",
    "        - Can I ask a question?\n",
    "        - Can you tell me more about the thing?\n",
    "        - What is the thing?\n",
    "        - How does the thing look like?\n",
    "        \"\"\"\n",
    "        prompt = PromptTemplate.from_template(template)\n",
    "        chain = prompt | self.model | StrOutputParser()\n",
    "        return chain.invoke(\n",
    "            {\n",
    "                \"observations\": \"\\n\".join(self.observations),\n",
    "                \"questions_left\": questions_left,\n",
    "            }\n",
    "        )\n",
    "\n",
    "    def answer(self, question):\n",
    "        template = \"\"\"\n",
    "        You are the host of a game where a player asks questions about\n",
    "        a {concept} trying to guess what it is.\n",
    "\n",
    "        The player has asked you the following question: {question}.\n",
    "\n",
    "        If the player guessed that the thing is \"{concept}\", answer with\n",
    "        the word \"GUESSED\". If the question refers to \"{concept}\", answer\n",
    "        with the word \"GUESSED\". \n",
    "\n",
    "        If the player didn't guessed, answer the question with a \n",
    "        simple Yes or No. Do not say anything else. Do not use any\n",
    "        punctuation.\n",
    "        \"\"\"\n",
    "        prompt = PromptTemplate.from_template(template)\n",
    "        chain = prompt | self.model | StrOutputParser()\n",
    "        return chain.invoke({\"concept\": self.concept, \"question\": question})\n",
    "\n",
    "    def add_observation(self, question, answer):\n",
    "        self.observations.append(f\"Question: {question}. Answer: {answer}\")"
   ]
  },
  {
   "cell_type": "code",
   "execution_count": 15,
   "metadata": {},
   "outputs": [
    {
     "name": "stdout",
     "output_type": "stream",
     "text": [
      "Concept: pencil\n"
     ]
    }
   ],
   "source": [
    "from langchain_community.llms import Ollama\n",
    "\n",
    "player = Player(model=Ollama(model=\"llama3\"))\n",
    "player.initialize_host()"
   ]
  },
  {
   "cell_type": "code",
   "execution_count": 16,
   "metadata": {},
   "outputs": [
    {
     "data": {
      "text/plain": [
       "'Is it man-made?'"
      ]
     },
     "execution_count": 16,
     "metadata": {},
     "output_type": "execute_result"
    }
   ],
   "source": [
    "question = player.ask(20)\n",
    "question"
   ]
  },
  {
   "cell_type": "code",
   "execution_count": 17,
   "metadata": {},
   "outputs": [
    {
     "data": {
      "text/plain": [
       "'Yes'"
      ]
     },
     "execution_count": 17,
     "metadata": {},
     "output_type": "execute_result"
    }
   ],
   "source": [
    "player.answer(question)"
   ]
  },
  {
   "cell_type": "code",
   "execution_count": 18,
   "metadata": {},
   "outputs": [],
   "source": [
    "class Game:\n",
    "    def __init__(self, model1, model2, rounds=3, questions=20):\n",
    "        self.model1 = model1\n",
    "        self.model2 = model2\n",
    "        self.rounds = rounds\n",
    "        self.questions = questions\n",
    "\n",
    "    def start(self):\n",
    "        players = {\n",
    "            \"0\": {\n",
    "                \"player\": Player(model=self.model1),\n",
    "                \"score\": 0,\n",
    "            },\n",
    "            \"1\": {\n",
    "                \"player\": Player(model=self.model2),\n",
    "                \"score\": 0,\n",
    "            },\n",
    "        }\n",
    "\n",
    "        host_index = 0\n",
    "        for round in range(self.rounds):\n",
    "            print(f\"\\nRound {round + 1}. Player {host_index + 1} is the host.\")\n",
    "\n",
    "            player_index = 1 - host_index\n",
    "            if self._play(\n",
    "                players[str(host_index)][\"player\"], players[str(player_index)][\"player\"]\n",
    "            ):\n",
    "                print(f\"Player {player_index + 1} guessed correctly.\")\n",
    "                players[str(player_index)][\"score\"] += 1\n",
    "            else:\n",
    "                print(f\"Player {player_index + 1} didn't guess correctly.\")\n",
    "                players[str(host_index)][\"score\"] += 1\n",
    "\n",
    "            host_index = 1 - host_index\n",
    "\n",
    "        print(\"Final score:\")\n",
    "        print(f\"Player 1: {players['0']['score']}\")\n",
    "        print(f\"Player 2: {players['1']['score']}\")\n",
    "\n",
    "    def _play(self, host, player):\n",
    "        host.initialize_host()\n",
    "        player.initialize_player()\n",
    "        for question_index in range(self.questions):\n",
    "            question = player.ask(self.questions - question_index)\n",
    "            answer = host.answer(question)\n",
    "\n",
    "            print(f\"Question {question_index + 1}: {question}. Answer: {answer}\")\n",
    "\n",
    "            player.add_observation(question, answer)\n",
    "\n",
    "            if \"guessed\" in answer.lower():\n",
    "                return True\n",
    "\n",
    "        return False"
   ]
  },
  {
   "cell_type": "code",
   "execution_count": 19,
   "metadata": {},
   "outputs": [
    {
     "name": "stdout",
     "output_type": "stream",
     "text": [
      "\n",
      "Round 1. Player 1 is the host.\n",
      "Concept: Carpet\n"
     ]
    }
   ],
   "source": [
    "from langchain_community.llms import Ollama\n",
    "\n",
    "game = Game(\n",
    "    model1=Ollama(model=\"llama3\"),\n",
    "    \n",
    "    model2=Ollama(model=\"mistral\"),\n",
    "    \n",
    "    rounds=7,\n",
    ")\n",
    "game.start()"
   ]
  }
 ],
 "metadata": {
  "kernelspec": {
   "display_name": "LangCrewGpu",
   "language": "python",
   "name": "python3"
  },
  "language_info": {
   "codemirror_mode": {
    "name": "ipython",
    "version": 3
   },
   "file_extension": ".py",
   "mimetype": "text/x-python",
   "name": "python",
   "nbconvert_exporter": "python",
   "pygments_lexer": "ipython3",
   "version": "3.10.14"
  }
 },
 "nbformat": 4,
 "nbformat_minor": 2
}
